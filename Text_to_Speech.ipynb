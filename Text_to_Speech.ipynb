{
 "cells": [
  {
   "cell_type": "code",
   "execution_count": 1,
   "metadata": {},
   "outputs": [
    {
     "name": "stdout",
     "output_type": "stream",
     "text": [
      "Collecting ibm_watson\n",
      "  Downloading ibm-watson-5.2.2.tar.gz (407 kB)\n",
      "  Installing build dependencies: started\n",
      "  Installing build dependencies: finished with status 'done'\n",
      "  Getting requirements to build wheel: started\n",
      "  Getting requirements to build wheel: finished with status 'done'\n",
      "    Preparing wheel metadata: started\n",
      "    Preparing wheel metadata: finished with status 'done'\n",
      "Collecting ibm-cloud-sdk-core==3.*,>=3.3.6\n",
      "  Downloading ibm-cloud-sdk-core-3.10.1.tar.gz (40 kB)\n",
      "Collecting websocket-client==1.1.0\n",
      "  Using cached websocket_client-1.1.0-py2.py3-none-any.whl (68 kB)\n",
      "Requirement already satisfied: python-dateutil>=2.5.3 in c:\\users\\noorh\\anaconda3\\lib\\site-packages (from ibm_watson) (2.8.1)\n",
      "Requirement already satisfied: requests<3.0,>=2.0 in c:\\users\\noorh\\anaconda3\\lib\\site-packages (from ibm_watson) (2.24.0)\n",
      "Collecting PyJWT<3.0.0,>=2.0.1\n",
      "  Downloading PyJWT-2.1.0-py3-none-any.whl (16 kB)\n",
      "Requirement already satisfied: six>=1.5 in c:\\users\\noorh\\anaconda3\\lib\\site-packages (from python-dateutil>=2.5.3->ibm_watson) (1.15.0)\n",
      "Requirement already satisfied: idna<3,>=2.5 in c:\\users\\noorh\\anaconda3\\lib\\site-packages (from requests<3.0,>=2.0->ibm_watson) (2.10)\n",
      "Requirement already satisfied: urllib3!=1.25.0,!=1.25.1,<1.26,>=1.21.1 in c:\\users\\noorh\\anaconda3\\lib\\site-packages (from requests<3.0,>=2.0->ibm_watson) (1.25.11)\n",
      "Requirement already satisfied: certifi>=2017.4.17 in c:\\users\\noorh\\anaconda3\\lib\\site-packages (from requests<3.0,>=2.0->ibm_watson) (2020.6.20)\n",
      "Requirement already satisfied: chardet<4,>=3.0.2 in c:\\users\\noorh\\anaconda3\\lib\\site-packages (from requests<3.0,>=2.0->ibm_watson) (3.0.4)\n",
      "Building wheels for collected packages: ibm-watson, ibm-cloud-sdk-core\n",
      "  Building wheel for ibm-watson (PEP 517): started\n",
      "  Building wheel for ibm-watson (PEP 517): finished with status 'done'\n",
      "  Created wheel for ibm-watson: filename=ibm_watson-5.2.2-py3-none-any.whl size=403389 sha256=ce2a86f42f15b80140600fadd0b6d297f3efa6f3613ded65ab04c57ea69586e6\n",
      "  Stored in directory: c:\\users\\noorh\\appdata\\local\\pip\\cache\\wheels\\65\\68\\42\\5f3c4d4d244aa2e6c139fc93bfc2d6c4d7a231b4d5472fda08\n",
      "  Building wheel for ibm-cloud-sdk-core (setup.py): started\n",
      "  Building wheel for ibm-cloud-sdk-core (setup.py): finished with status 'done'\n",
      "  Created wheel for ibm-cloud-sdk-core: filename=ibm_cloud_sdk_core-3.10.1-py3-none-any.whl size=61767 sha256=ee90d8208e7b98786f045433afee55f8d796b1ab20858782493a8d3049de2069\n",
      "  Stored in directory: c:\\users\\noorh\\appdata\\local\\pip\\cache\\wheels\\44\\3f\\51\\721dd4902c33b62d33b4884e70ac05ca4ec7c3dd42902224c9\n",
      "Successfully built ibm-watson ibm-cloud-sdk-core\n",
      "Installing collected packages: PyJWT, ibm-cloud-sdk-core, websocket-client, ibm-watson\n",
      "Successfully installed PyJWT-2.1.0 ibm-cloud-sdk-core-3.10.1 ibm-watson-5.2.2 websocket-client-1.1.0\n"
     ]
    }
   ],
   "source": [
    "!pip install ibm_watson"
   ]
  },
  {
   "cell_type": "code",
   "execution_count": 2,
   "metadata": {},
   "outputs": [],
   "source": [
    "apikey = 'JA11EZvHe4ow9Kw-_Xfg0H5INVodxV64CLYDgfNvTdDq'\n",
    "url = 'https://api.us-south.text-to-speech.watson.cloud.ibm.com/instances/2103c468-4c16-4423-9f71-96d46a6b2b13'"
   ]
  },
  {
   "cell_type": "code",
   "execution_count": 3,
   "metadata": {},
   "outputs": [],
   "source": [
    "from ibm_watson import TextToSpeechV1\n",
    "from ibm_cloud_sdk_core.authenticators import IAMAuthenticator"
   ]
  },
  {
   "cell_type": "code",
   "execution_count": 4,
   "metadata": {},
   "outputs": [],
   "source": [
    "authenticator = IAMAuthenticator(apikey) \n",
    "tts = TextToSpeechV1(authenticator = authenticator)\n",
    "tts.set_service_url(url)"
   ]
  },
  {
   "cell_type": "code",
   "execution_count": 11,
   "metadata": {},
   "outputs": [],
   "source": [
    "with open('./textToSpeech_audio.mp3','wb') as audio_file:\n",
    "    res = tts.synthesize('Hello, How can I help you?', accept='audio/mp3', voice='en-US_AllisonV3Voice').get_result()\n",
    "    audio_file.write(res.content)"
   ]
  },
  {
   "cell_type": "code",
   "execution_count": null,
   "metadata": {},
   "outputs": [],
   "source": []
  }
 ],
 "metadata": {
  "kernelspec": {
   "display_name": "Python 3",
   "language": "python",
   "name": "python3"
  },
  "language_info": {
   "codemirror_mode": {
    "name": "ipython",
    "version": 3
   },
   "file_extension": ".py",
   "mimetype": "text/x-python",
   "name": "python",
   "nbconvert_exporter": "python",
   "pygments_lexer": "ipython3",
   "version": "3.8.5"
  }
 },
 "nbformat": 4,
 "nbformat_minor": 4
}
